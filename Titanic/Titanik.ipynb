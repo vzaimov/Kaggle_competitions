{
  "cells": [
    {
      "metadata": {
        "_uuid": "edeccc11cde67db79606921ac568ff61aac9bec2"
      },
      "cell_type": "markdown",
      "source": "First import the libraries needed and check which fiels are available as datasources."
    },
    {
      "metadata": {
        "_uuid": "15f7d4e1361c78f143b61d0bc1d95fd679da891b",
        "_cell_guid": "ec467d6b-5d43-a39d-1c4c-3efaa059b495",
        "trusted": true
      },
      "cell_type": "code",
      "source": "%matplotlib inline\n# This Python 3 environment comes with many helpful analytics libraries installed\n# It is defined by the kaggle/python docker image: https://github.com/kaggle/docker-python\n# For example, here's several helpful packages to load in \n\nimport numpy as np # linear algebra\nimport pandas as pd # data processing, CSV file I/O (e.g. pd.read_csv)\n\n# Input data files are available in the \"../input/\" directory.\n# For example, running this (by clicking run or pressing Shift+Enter) will list the files in the input directory\n\nfrom subprocess import check_output\nprint(check_output([\"ls\", \"../input\"]).decode(\"utf8\"))\n\n# Any results you write to the current directory are saved as output.",
      "execution_count": 98,
      "outputs": [
        {
          "output_type": "stream",
          "text": "genderclassmodel.csv\ngendermodel.csv\ngendermodel.py\nmyfirstforest.py\ntest.csv\ntrain.csv\n\n",
          "name": "stdout"
        }
      ]
    },
    {
      "metadata": {
        "_uuid": "b8389c1f0a233668d6cbfb7629cc8a87ce23b2d2",
        "_cell_guid": "d64c82c2-c10e-c458-6ba3-c82a3a18fa8e",
        "trusted": true,
        "collapsed": true
      },
      "cell_type": "code",
      "source": "\n\nimport matplotlib.pyplot as plt\nimport seaborn as sns",
      "execution_count": 99,
      "outputs": []
    },
    {
      "metadata": {
        "_uuid": "d2fc2e26c6c9b03bf1fdb2c1e6549be951efcddb"
      },
      "cell_type": "markdown",
      "source": "Import trainig data from train.csv and visualize few rows to se what is contained in the file."
    },
    {
      "metadata": {
        "_uuid": "818d0a5efbf043a530ed800758dc691b74bf3cc8",
        "_cell_guid": "5a51c9c0-5ca2-2b8f-8ad6-48d999afb148",
        "trusted": true
      },
      "cell_type": "code",
      "source": "tr_df = pd.read_csv(\"../input/train.csv\")\ntr_df.head(3)",
      "execution_count": 100,
      "outputs": [
        {
          "output_type": "execute_result",
          "execution_count": 100,
          "data": {
            "text/plain": "   PassengerId  Survived  Pclass  \\\n0            1         0       3   \n1            2         1       1   \n2            3         1       3   \n\n                                                Name     Sex   Age  SibSp  \\\n0                            Braund, Mr. Owen Harris    male  22.0      1   \n1  Cumings, Mrs. John Bradley (Florence Briggs Th...  female  38.0      1   \n2                             Heikkinen, Miss. Laina  female  26.0      0   \n\n   Parch            Ticket     Fare Cabin Embarked  \n0      0         A/5 21171   7.2500   NaN        S  \n1      0          PC 17599  71.2833   C85        C  \n2      0  STON/O2. 3101282   7.9250   NaN        S  ",
            "text/html": "<div>\n<style>\n    .dataframe thead tr:only-child th {\n        text-align: right;\n    }\n\n    .dataframe thead th {\n        text-align: left;\n    }\n\n    .dataframe tbody tr th {\n        vertical-align: top;\n    }\n</style>\n<table border=\"1\" class=\"dataframe\">\n  <thead>\n    <tr style=\"text-align: right;\">\n      <th></th>\n      <th>PassengerId</th>\n      <th>Survived</th>\n      <th>Pclass</th>\n      <th>Name</th>\n      <th>Sex</th>\n      <th>Age</th>\n      <th>SibSp</th>\n      <th>Parch</th>\n      <th>Ticket</th>\n      <th>Fare</th>\n      <th>Cabin</th>\n      <th>Embarked</th>\n    </tr>\n  </thead>\n  <tbody>\n    <tr>\n      <th>0</th>\n      <td>1</td>\n      <td>0</td>\n      <td>3</td>\n      <td>Braund, Mr. Owen Harris</td>\n      <td>male</td>\n      <td>22.0</td>\n      <td>1</td>\n      <td>0</td>\n      <td>A/5 21171</td>\n      <td>7.2500</td>\n      <td>NaN</td>\n      <td>S</td>\n    </tr>\n    <tr>\n      <th>1</th>\n      <td>2</td>\n      <td>1</td>\n      <td>1</td>\n      <td>Cumings, Mrs. John Bradley (Florence Briggs Th...</td>\n      <td>female</td>\n      <td>38.0</td>\n      <td>1</td>\n      <td>0</td>\n      <td>PC 17599</td>\n      <td>71.2833</td>\n      <td>C85</td>\n      <td>C</td>\n    </tr>\n    <tr>\n      <th>2</th>\n      <td>3</td>\n      <td>1</td>\n      <td>3</td>\n      <td>Heikkinen, Miss. Laina</td>\n      <td>female</td>\n      <td>26.0</td>\n      <td>0</td>\n      <td>0</td>\n      <td>STON/O2. 3101282</td>\n      <td>7.9250</td>\n      <td>NaN</td>\n      <td>S</td>\n    </tr>\n  </tbody>\n</table>\n</div>"
          },
          "metadata": {}
        }
      ]
    },
    {
      "metadata": {
        "_uuid": "9bd306429b92d25b5096d8ddd18dc35083f6d6e5"
      },
      "cell_type": "markdown",
      "source": "Here I see that \"Cabin\" field has NaN values. I have to decide later what to do with them."
    },
    {
      "metadata": {
        "_uuid": "bec858a7c7e1264d6959709ad5059f81b21d6fa7"
      },
      "cell_type": "markdown",
      "source": "Check datatypes"
    },
    {
      "metadata": {
        "_uuid": "ac755ed40b1a5a4a05dccbbde7537501c6debe75",
        "_cell_guid": "a1e21cf8-396b-90ef-e039-6e703ec08dbf",
        "trusted": true,
        "scrolled": true
      },
      "cell_type": "code",
      "source": "tr_df.info()",
      "execution_count": 101,
      "outputs": [
        {
          "output_type": "stream",
          "text": "<class 'pandas.core.frame.DataFrame'>\nRangeIndex: 891 entries, 0 to 890\nData columns (total 12 columns):\nPassengerId    891 non-null int64\nSurvived       891 non-null int64\nPclass         891 non-null int64\nName           891 non-null object\nSex            891 non-null object\nAge            714 non-null float64\nSibSp          891 non-null int64\nParch          891 non-null int64\nTicket         891 non-null object\nFare           891 non-null float64\nCabin          204 non-null object\nEmbarked       889 non-null object\ndtypes: float64(2), int64(5), object(5)\nmemory usage: 83.6+ KB\n",
          "name": "stdout"
        }
      ]
    },
    {
      "metadata": {
        "_uuid": "0cb67424f0e5c482f71e61a604430aaee70960a1"
      },
      "cell_type": "markdown",
      "source": "And show some statistics for numerical fields"
    },
    {
      "metadata": {
        "_uuid": "82b03577f3219903704e5c4114c3452ec737c55c",
        "_cell_guid": "62d56a93-7823-0e9f-b9ab-933849f145a9",
        "trusted": true
      },
      "cell_type": "code",
      "source": "tr_df.describe()",
      "execution_count": 102,
      "outputs": [
        {
          "output_type": "execute_result",
          "execution_count": 102,
          "data": {
            "text/plain": "       PassengerId    Survived      Pclass         Age       SibSp  \\\ncount   891.000000  891.000000  891.000000  714.000000  891.000000   \nmean    446.000000    0.383838    2.308642   29.699118    0.523008   \nstd     257.353842    0.486592    0.836071   14.526497    1.102743   \nmin       1.000000    0.000000    1.000000    0.420000    0.000000   \n25%     223.500000    0.000000    2.000000   20.125000    0.000000   \n50%     446.000000    0.000000    3.000000   28.000000    0.000000   \n75%     668.500000    1.000000    3.000000   38.000000    1.000000   \nmax     891.000000    1.000000    3.000000   80.000000    8.000000   \n\n            Parch        Fare  \ncount  891.000000  891.000000  \nmean     0.381594   32.204208  \nstd      0.806057   49.693429  \nmin      0.000000    0.000000  \n25%      0.000000    7.910400  \n50%      0.000000   14.454200  \n75%      0.000000   31.000000  \nmax      6.000000  512.329200  ",
            "text/html": "<div>\n<style>\n    .dataframe thead tr:only-child th {\n        text-align: right;\n    }\n\n    .dataframe thead th {\n        text-align: left;\n    }\n\n    .dataframe tbody tr th {\n        vertical-align: top;\n    }\n</style>\n<table border=\"1\" class=\"dataframe\">\n  <thead>\n    <tr style=\"text-align: right;\">\n      <th></th>\n      <th>PassengerId</th>\n      <th>Survived</th>\n      <th>Pclass</th>\n      <th>Age</th>\n      <th>SibSp</th>\n      <th>Parch</th>\n      <th>Fare</th>\n    </tr>\n  </thead>\n  <tbody>\n    <tr>\n      <th>count</th>\n      <td>891.000000</td>\n      <td>891.000000</td>\n      <td>891.000000</td>\n      <td>714.000000</td>\n      <td>891.000000</td>\n      <td>891.000000</td>\n      <td>891.000000</td>\n    </tr>\n    <tr>\n      <th>mean</th>\n      <td>446.000000</td>\n      <td>0.383838</td>\n      <td>2.308642</td>\n      <td>29.699118</td>\n      <td>0.523008</td>\n      <td>0.381594</td>\n      <td>32.204208</td>\n    </tr>\n    <tr>\n      <th>std</th>\n      <td>257.353842</td>\n      <td>0.486592</td>\n      <td>0.836071</td>\n      <td>14.526497</td>\n      <td>1.102743</td>\n      <td>0.806057</td>\n      <td>49.693429</td>\n    </tr>\n    <tr>\n      <th>min</th>\n      <td>1.000000</td>\n      <td>0.000000</td>\n      <td>1.000000</td>\n      <td>0.420000</td>\n      <td>0.000000</td>\n      <td>0.000000</td>\n      <td>0.000000</td>\n    </tr>\n    <tr>\n      <th>25%</th>\n      <td>223.500000</td>\n      <td>0.000000</td>\n      <td>2.000000</td>\n      <td>20.125000</td>\n      <td>0.000000</td>\n      <td>0.000000</td>\n      <td>7.910400</td>\n    </tr>\n    <tr>\n      <th>50%</th>\n      <td>446.000000</td>\n      <td>0.000000</td>\n      <td>3.000000</td>\n      <td>28.000000</td>\n      <td>0.000000</td>\n      <td>0.000000</td>\n      <td>14.454200</td>\n    </tr>\n    <tr>\n      <th>75%</th>\n      <td>668.500000</td>\n      <td>1.000000</td>\n      <td>3.000000</td>\n      <td>38.000000</td>\n      <td>1.000000</td>\n      <td>0.000000</td>\n      <td>31.000000</td>\n    </tr>\n    <tr>\n      <th>max</th>\n      <td>891.000000</td>\n      <td>1.000000</td>\n      <td>3.000000</td>\n      <td>80.000000</td>\n      <td>8.000000</td>\n      <td>6.000000</td>\n      <td>512.329200</td>\n    </tr>\n  </tbody>\n</table>\n</div>"
          },
          "metadata": {}
        }
      ]
    },
    {
      "metadata": {
        "_uuid": "ab31f0230635ff5efb69bb32ee7d707ccf055911"
      },
      "cell_type": "markdown",
      "source": "From the table is visible that \"Age\" has missing values too, as they are 714 of total 891  records. \"Cabin\" has only 204 records and \"Embarked\" has 889. The \"Survived\" field is the label. It has 0 and 1."
    },
    {
      "metadata": {
        "_uuid": "d96f5e32102263e8b6325ded17722961e53494ae"
      },
      "cell_type": "markdown",
      "source": "And now let's import the test data and check some statistics, too."
    },
    {
      "metadata": {
        "_uuid": "7354a56bf6b0363cd1c98bd2c3647c9bcea5e593",
        "_cell_guid": "727acfa3-d0e7-39bf-f2fd-be0ef48d9c1a",
        "trusted": true
      },
      "cell_type": "code",
      "source": "test_df = pd.read_csv(\"../input/test.csv\")\ntest_df.head(3)",
      "execution_count": 103,
      "outputs": [
        {
          "output_type": "execute_result",
          "execution_count": 103,
          "data": {
            "text/plain": "   PassengerId  Pclass                              Name     Sex   Age  SibSp  \\\n0          892       3                  Kelly, Mr. James    male  34.5      0   \n1          893       3  Wilkes, Mrs. James (Ellen Needs)  female  47.0      1   \n2          894       2         Myles, Mr. Thomas Francis    male  62.0      0   \n\n   Parch  Ticket    Fare Cabin Embarked  \n0      0  330911  7.8292   NaN        Q  \n1      0  363272  7.0000   NaN        S  \n2      0  240276  9.6875   NaN        Q  ",
            "text/html": "<div>\n<style>\n    .dataframe thead tr:only-child th {\n        text-align: right;\n    }\n\n    .dataframe thead th {\n        text-align: left;\n    }\n\n    .dataframe tbody tr th {\n        vertical-align: top;\n    }\n</style>\n<table border=\"1\" class=\"dataframe\">\n  <thead>\n    <tr style=\"text-align: right;\">\n      <th></th>\n      <th>PassengerId</th>\n      <th>Pclass</th>\n      <th>Name</th>\n      <th>Sex</th>\n      <th>Age</th>\n      <th>SibSp</th>\n      <th>Parch</th>\n      <th>Ticket</th>\n      <th>Fare</th>\n      <th>Cabin</th>\n      <th>Embarked</th>\n    </tr>\n  </thead>\n  <tbody>\n    <tr>\n      <th>0</th>\n      <td>892</td>\n      <td>3</td>\n      <td>Kelly, Mr. James</td>\n      <td>male</td>\n      <td>34.5</td>\n      <td>0</td>\n      <td>0</td>\n      <td>330911</td>\n      <td>7.8292</td>\n      <td>NaN</td>\n      <td>Q</td>\n    </tr>\n    <tr>\n      <th>1</th>\n      <td>893</td>\n      <td>3</td>\n      <td>Wilkes, Mrs. James (Ellen Needs)</td>\n      <td>female</td>\n      <td>47.0</td>\n      <td>1</td>\n      <td>0</td>\n      <td>363272</td>\n      <td>7.0000</td>\n      <td>NaN</td>\n      <td>S</td>\n    </tr>\n    <tr>\n      <th>2</th>\n      <td>894</td>\n      <td>2</td>\n      <td>Myles, Mr. Thomas Francis</td>\n      <td>male</td>\n      <td>62.0</td>\n      <td>0</td>\n      <td>0</td>\n      <td>240276</td>\n      <td>9.6875</td>\n      <td>NaN</td>\n      <td>Q</td>\n    </tr>\n  </tbody>\n</table>\n</div>"
          },
          "metadata": {}
        }
      ]
    },
    {
      "metadata": {
        "trusted": true,
        "_uuid": "2726a4a083eafb087d7888ef361a9a376ae9b797"
      },
      "cell_type": "code",
      "source": "test_df.info()",
      "execution_count": 104,
      "outputs": [
        {
          "output_type": "stream",
          "text": "<class 'pandas.core.frame.DataFrame'>\nRangeIndex: 418 entries, 0 to 417\nData columns (total 11 columns):\nPassengerId    418 non-null int64\nPclass         418 non-null int64\nName           418 non-null object\nSex            418 non-null object\nAge            332 non-null float64\nSibSp          418 non-null int64\nParch          418 non-null int64\nTicket         418 non-null object\nFare           417 non-null float64\nCabin          91 non-null object\nEmbarked       418 non-null object\ndtypes: float64(2), int64(4), object(5)\nmemory usage: 36.0+ KB\n",
          "name": "stdout"
        }
      ]
    },
    {
      "metadata": {
        "trusted": true,
        "_uuid": "e9353cebf06ff1dd5fa429bddf2adf10e3cbce0e"
      },
      "cell_type": "code",
      "source": "test_df.describe()",
      "execution_count": 105,
      "outputs": [
        {
          "output_type": "execute_result",
          "execution_count": 105,
          "data": {
            "text/plain": "       PassengerId      Pclass         Age       SibSp       Parch        Fare\ncount   418.000000  418.000000  332.000000  418.000000  418.000000  417.000000\nmean   1100.500000    2.265550   30.272590    0.447368    0.392344   35.627188\nstd     120.810458    0.841838   14.181209    0.896760    0.981429   55.907576\nmin     892.000000    1.000000    0.170000    0.000000    0.000000    0.000000\n25%     996.250000    1.000000   21.000000    0.000000    0.000000    7.895800\n50%    1100.500000    3.000000   27.000000    0.000000    0.000000   14.454200\n75%    1204.750000    3.000000   39.000000    1.000000    0.000000   31.500000\nmax    1309.000000    3.000000   76.000000    8.000000    9.000000  512.329200",
            "text/html": "<div>\n<style>\n    .dataframe thead tr:only-child th {\n        text-align: right;\n    }\n\n    .dataframe thead th {\n        text-align: left;\n    }\n\n    .dataframe tbody tr th {\n        vertical-align: top;\n    }\n</style>\n<table border=\"1\" class=\"dataframe\">\n  <thead>\n    <tr style=\"text-align: right;\">\n      <th></th>\n      <th>PassengerId</th>\n      <th>Pclass</th>\n      <th>Age</th>\n      <th>SibSp</th>\n      <th>Parch</th>\n      <th>Fare</th>\n    </tr>\n  </thead>\n  <tbody>\n    <tr>\n      <th>count</th>\n      <td>418.000000</td>\n      <td>418.000000</td>\n      <td>332.000000</td>\n      <td>418.000000</td>\n      <td>418.000000</td>\n      <td>417.000000</td>\n    </tr>\n    <tr>\n      <th>mean</th>\n      <td>1100.500000</td>\n      <td>2.265550</td>\n      <td>30.272590</td>\n      <td>0.447368</td>\n      <td>0.392344</td>\n      <td>35.627188</td>\n    </tr>\n    <tr>\n      <th>std</th>\n      <td>120.810458</td>\n      <td>0.841838</td>\n      <td>14.181209</td>\n      <td>0.896760</td>\n      <td>0.981429</td>\n      <td>55.907576</td>\n    </tr>\n    <tr>\n      <th>min</th>\n      <td>892.000000</td>\n      <td>1.000000</td>\n      <td>0.170000</td>\n      <td>0.000000</td>\n      <td>0.000000</td>\n      <td>0.000000</td>\n    </tr>\n    <tr>\n      <th>25%</th>\n      <td>996.250000</td>\n      <td>1.000000</td>\n      <td>21.000000</td>\n      <td>0.000000</td>\n      <td>0.000000</td>\n      <td>7.895800</td>\n    </tr>\n    <tr>\n      <th>50%</th>\n      <td>1100.500000</td>\n      <td>3.000000</td>\n      <td>27.000000</td>\n      <td>0.000000</td>\n      <td>0.000000</td>\n      <td>14.454200</td>\n    </tr>\n    <tr>\n      <th>75%</th>\n      <td>1204.750000</td>\n      <td>3.000000</td>\n      <td>39.000000</td>\n      <td>1.000000</td>\n      <td>0.000000</td>\n      <td>31.500000</td>\n    </tr>\n    <tr>\n      <th>max</th>\n      <td>1309.000000</td>\n      <td>3.000000</td>\n      <td>76.000000</td>\n      <td>8.000000</td>\n      <td>9.000000</td>\n      <td>512.329200</td>\n    </tr>\n  </tbody>\n</table>\n</div>"
          },
          "metadata": {}
        }
      ]
    },
    {
      "metadata": {
        "_uuid": "ceb612b0297e476898bf8943bd4e32f3db8e9af3"
      },
      "cell_type": "markdown",
      "source": "For test data there are missing values in fields \"Age\", \"Fare\", \"Cabin\". In \"Fare\" only one value is missing."
    },
    {
      "metadata": {
        "_uuid": "ca63fc48e490e823f1336a26a6e65e4681cbbfc2"
      },
      "cell_type": "markdown",
      "source": "Now I display some histograms for data fields in training data"
    },
    {
      "metadata": {
        "_uuid": "ee4cc6b865ebbb71c94db99d8a07a2ec3754c8e8",
        "_cell_guid": "b4931137-3e7e-ae51-5688-da9e8be540f3",
        "trusted": true
      },
      "cell_type": "code",
      "source": "tr_df[[\"Age\", \"Pclass\", \"Fare\", \"Parch\", \"SibSp\"]].hist(align='left', figsize = (10,5))\nplt.tight_layout()\nplt.show()",
      "execution_count": 106,
      "outputs": [
        {
          "output_type": "display_data",
          "data": {
            "text/plain": "<matplotlib.figure.Figure at 0x7f533a208b00>",
            "image/png": "[encoded data removed]"
          },
          "metadata": {}
        }
      ]
    },
    {
      "metadata": {
        "_uuid": "ec1a5294f623a710f2f9b6f49106a5254146040a",
        "_cell_guid": "39b8a14e-1f88-339b-25c4-f50da9e068c8",
        "trusted": true
      },
      "cell_type": "code",
      "source": "tr_df.groupby(\"Sex\")[\"Sex\"].count().plot(kind='bar')\nplt.show()",
      "execution_count": 107,
      "outputs": [
        {
          "output_type": "display_data",
          "data": {
            "text/plain": "<matplotlib.figure.Figure at 0x7f533a8592b0>",
            "image/png": "[encoded data removed]"
          },
          "metadata": {}
        }
      ]
    },
    {
      "metadata": {
        "_uuid": "5a0cc6c8d30a60798cdc83a65ee50e42c150f625",
        "_cell_guid": "d008796b-c9f4-ab88-0090-5006a5cea6d0",
        "trusted": true
      },
      "cell_type": "code",
      "source": "tr_df.groupby(\"Survived\")[\"Survived\"].count().plot(kind='bar')\nplt.show()",
      "execution_count": 108,
      "outputs": [
        {
          "output_type": "display_data",
          "data": {
            "text/plain": "<matplotlib.figure.Figure at 0x7f533ab36630>",
            "image/png": "[encoded data removed]"
          },
          "metadata": {}
        }
      ]
    },
    {
      "metadata": {
        "_uuid": "3512c9af748d725281d9fbeb38bcee2e57857cad",
        "_cell_guid": "0936362f-862c-6621-423b-1c38fd15552c",
        "trusted": true
      },
      "cell_type": "code",
      "source": "tr_df.groupby(\"Embarked\")[\"Embarked\"].count().plot(kind='bar')\nplt.show()",
      "execution_count": 109,
      "outputs": [
        {
          "output_type": "display_data",
          "data": {
            "text/plain": "<matplotlib.figure.Figure at 0x7f533a9c8860>",
            "image/png": "[encoded data removed]"
          },
          "metadata": {}
        }
      ]
    },
    {
      "metadata": {
        "_uuid": "ef28ddaabe81d024144654c451b4a2da9da4c79e"
      },
      "cell_type": "markdown",
      "source": "Plot the correlations between columns"
    },
    {
      "metadata": {
        "_uuid": "8c228fefeb7f76a9752a2f845a21d4558317aaba",
        "_cell_guid": "c517647a-eb57-ea13-1313-fb9d0705ad93",
        "trusted": true
      },
      "cell_type": "code",
      "source": "sns.heatmap(tr_df.corr(), annot = True)",
      "execution_count": 110,
      "outputs": [
        {
          "output_type": "execute_result",
          "execution_count": 110,
          "data": {
            "text/plain": "<matplotlib.axes._subplots.AxesSubplot at 0x7f536a80fe48>"
          },
          "metadata": {}
        },
        {
          "output_type": "display_data",
          "data": {
            "text/plain": "<matplotlib.figure.Figure at 0x7f533ab113c8>",
            "image/png": "[encoded data removed]"
          },
          "metadata": {}
        }
      ]
    },
    {
      "metadata": {
        "_uuid": "c491e468ba96378edb2ed14e1c6a9e15d2189460",
        "_cell_guid": "55fdd4f1-410d-bc58-5743-f3e6081f026f"
      },
      "cell_type": "markdown",
      "source": "### Some data transformation is needed"
    },
    {
      "metadata": {
        "_uuid": "13e1cd49c403dddeda848e2e21e965b2d051b431",
        "_cell_guid": "e03990db-2a17-dbad-cb88-cb87f642ebbd",
        "trusted": true,
        "collapsed": true
      },
      "cell_type": "code",
      "source": "def df_transform(df):\n    df = df.drop([\"Name\",\"Ticket\",\"PassengerId\",\"Cabin\",\"Age\"], axis=1)\n    df = pd.get_dummies(df, columns=['Sex','Embarked']).fillna(0)\n    return df",
      "execution_count": 111,
      "outputs": []
    },
    {
      "metadata": {
        "_uuid": "4f3c6a2043241f39d9176416a2dfb0212880c357",
        "_cell_guid": "8dacef10-8941-3085-e604-3e4e743768c6",
        "trusted": true
      },
      "cell_type": "code",
      "source": "tr_df = df_transform(tr_df)\ntr_df.head(3)",
      "execution_count": 112,
      "outputs": [
        {
          "output_type": "execute_result",
          "execution_count": 112,
          "data": {
            "text/plain": "   Survived  Pclass  SibSp  Parch     Fare  Sex_female  Sex_male  Embarked_C  \\\n0         0       3      1      0   7.2500           0         1           0   \n1         1       1      1      0  71.2833           1         0           1   \n2         1       3      0      0   7.9250           1         0           0   \n\n   Embarked_Q  Embarked_S  \n0           0           1  \n1           0           0  \n2           0           1  ",
            "text/html": "<div>\n<style>\n    .dataframe thead tr:only-child th {\n        text-align: right;\n    }\n\n    .dataframe thead th {\n        text-align: left;\n    }\n\n    .dataframe tbody tr th {\n        vertical-align: top;\n    }\n</style>\n<table border=\"1\" class=\"dataframe\">\n  <thead>\n    <tr style=\"text-align: right;\">\n      <th></th>\n      <th>Survived</th>\n      <th>Pclass</th>\n      <th>SibSp</th>\n      <th>Parch</th>\n      <th>Fare</th>\n      <th>Sex_female</th>\n      <th>Sex_male</th>\n      <th>Embarked_C</th>\n      <th>Embarked_Q</th>\n      <th>Embarked_S</th>\n    </tr>\n  </thead>\n  <tbody>\n    <tr>\n      <th>0</th>\n      <td>0</td>\n      <td>3</td>\n      <td>1</td>\n      <td>0</td>\n      <td>7.2500</td>\n      <td>0</td>\n      <td>1</td>\n      <td>0</td>\n      <td>0</td>\n      <td>1</td>\n    </tr>\n    <tr>\n      <th>1</th>\n      <td>1</td>\n      <td>1</td>\n      <td>1</td>\n      <td>0</td>\n      <td>71.2833</td>\n      <td>1</td>\n      <td>0</td>\n      <td>1</td>\n      <td>0</td>\n      <td>0</td>\n    </tr>\n    <tr>\n      <th>2</th>\n      <td>1</td>\n      <td>3</td>\n      <td>0</td>\n      <td>0</td>\n      <td>7.9250</td>\n      <td>1</td>\n      <td>0</td>\n      <td>0</td>\n      <td>0</td>\n      <td>1</td>\n    </tr>\n  </tbody>\n</table>\n</div>"
          },
          "metadata": {}
        }
      ]
    },
    {
      "metadata": {
        "_uuid": "26c6436aeef4f128a5f123e778f8778633f828f8",
        "_cell_guid": "c2962e22-809c-c966-7a78-de779ac580b4",
        "trusted": true
      },
      "cell_type": "code",
      "source": "sns.heatmap(tr_df.corr())",
      "execution_count": 113,
      "outputs": [
        {
          "output_type": "execute_result",
          "execution_count": 113,
          "data": {
            "text/plain": "<matplotlib.axes._subplots.AxesSubplot at 0x7f533a097668>"
          },
          "metadata": {}
        },
        {
          "output_type": "display_data",
          "data": {
            "text/plain": "<matplotlib.figure.Figure at 0x7f536a70b6a0>",
            "image/png": "[encoded data removed]"
          },
          "metadata": {}
        }
      ]
    },
    {
      "metadata": {
        "_uuid": "739fff41b688ffa7701e326e7cb01cca5b0532e7",
        "_cell_guid": "6b416b46-5bad-6789-b24c-6065d006fc48"
      },
      "cell_type": "markdown",
      "source": "## Split data for training and testing"
    },
    {
      "metadata": {
        "_uuid": "c103c770350b0ac1b90540384321398931eea82b",
        "_cell_guid": "e8403003-7f30-87d6-a116-6b2efd689828",
        "trusted": true
      },
      "cell_type": "code",
      "source": "from sklearn.model_selection import train_test_split\n\n#split data to training : test (70% : 30%)\nattr_train, attr_test, l_train, l_test = train_test_split(tr_df.drop(\"Survived\", axis=1), tr_df.Survived, train_size = 0.7)",
      "execution_count": 114,
      "outputs": [
        {
          "output_type": "stream",
          "text": "/opt/conda/lib/python3.6/site-packages/sklearn/model_selection/_split.py:2010: FutureWarning: From version 0.21, test_size will always complement train_size unless both are specified.\n  FutureWarning)\n",
          "name": "stderr"
        }
      ]
    },
    {
      "metadata": {
        "_uuid": "b24c558441feceaab112c7c868142df85fdd7969",
        "_cell_guid": "dddf71de-ad87-3fec-ebc4-93ee92400f30"
      },
      "cell_type": "markdown",
      "source": "## Model 1. Linear regression"
    },
    {
      "metadata": {
        "_uuid": "a39830528d154f52ab5baf1051b92f20ef91b3e1",
        "_cell_guid": "c0f5e074-ce0a-382a-feba-745e14884d78",
        "trusted": true
      },
      "cell_type": "code",
      "source": "from sklearn.linear_model import LinearRegression\n\nmodel = LinearRegression()\n\ntrained = model.fit(attr_train, l_train)\nlin_reg_score = trained.score(attr_test,l_test)\nprint(\"LinearRegression score: {}\".format(lin_reg_score ))\n",
      "execution_count": 115,
      "outputs": [
        {
          "output_type": "stream",
          "text": "LinearRegression score: 0.4398418480058707\n",
          "name": "stdout"
        }
      ]
    },
    {
      "metadata": {
        "_uuid": "abd00a792e45578267b2be93150ed3b16186bec1",
        "_cell_guid": "03df6d7e-df49-88d4-0adf-58bcc41fb28c",
        "trusted": true,
        "collapsed": true
      },
      "cell_type": "code",
      "source": "#output.to_csv(\"../output/my_gender_submission.csv\")",
      "execution_count": 116,
      "outputs": []
    },
    {
      "metadata": {
        "_uuid": "f4871b4b5043bf19083c24b269c8cf099ce53e3e",
        "_cell_guid": "9dfb227b-1481-2118-db86-63e133c746be"
      },
      "cell_type": "markdown",
      "source": "### Cross validation"
    },
    {
      "metadata": {
        "_uuid": "282160988ef9a4d23d49c4f99bc7417b6e5779b5",
        "_cell_guid": "99ff897b-baac-4693-3e41-44db4c96ecd0",
        "trusted": true
      },
      "cell_type": "code",
      "source": "# Time for cross validation with initially selected 70% data for training\n\nfrom sklearn.model_selection import cross_val_score, StratifiedKFold\n\nattributes = attr_train\nlabels = l_train\n\nkfold = StratifiedKFold(n_splits = 5)\n\nlin_reg_scores = cross_val_score(model, attributes, labels, cv = kfold)\nprint(lin_reg_scores)",
      "execution_count": 117,
      "outputs": [
        {
          "output_type": "stream",
          "text": "[ 0.31460387  0.42925202  0.33993455  0.35298323  0.16814677]\n",
          "name": "stdout"
        }
      ]
    },
    {
      "metadata": {
        "_uuid": "e1e074904d28dd3cc5955d751ae6614a1aa48219",
        "_cell_guid": "82162a55-77b4-434f-7506-8c558f19be90"
      },
      "cell_type": "markdown",
      "source": "##Model 2. Logistic regression"
    },
    {
      "metadata": {
        "_uuid": "183339ee6feee8f8cfe5dfd055446db774b89841",
        "_cell_guid": "48f0eb03-9b2c-1195-bd10-ac70abc1cbd5",
        "trusted": true
      },
      "cell_type": "code",
      "source": "from sklearn.linear_model import LogisticRegression\nmodel = LogisticRegression()\n\ntrained = model.fit(attr_train, l_train)\nlogis_reg_score = trained.score(attr_test,l_test)\nprint(\"LogisticRegression score: {}\".format(logis_reg_score))",
      "execution_count": 118,
      "outputs": [
        {
          "output_type": "stream",
          "text": "LogisticRegression score: 0.8097014925373134\n",
          "name": "stdout"
        }
      ]
    },
    {
      "metadata": {
        "_uuid": "e0f487b86e1f54389d65913d972628b2e8b2b36f",
        "_cell_guid": "e1aad3fe-aaa7-baf0-4fc3-e3ef0ad63a57",
        "trusted": true
      },
      "cell_type": "code",
      "source": "# Loogistic regressioin cross validation\n\nattributes = attr_train\nlabels = l_train\n\nkfold = StratifiedKFold(n_splits = 5)\n\nlogis_reg_scores = cross_val_score(model, attributes, labels, cv = kfold)\nprint(logis_reg_scores)",
      "execution_count": 119,
      "outputs": [
        {
          "output_type": "stream",
          "text": "[ 0.75396825  0.8         0.78225806  0.81451613  0.77419355]\n",
          "name": "stdout"
        }
      ]
    },
    {
      "metadata": {
        "_uuid": "19cb43cbdcdc62c5114b57b052b6342c8d168171",
        "_cell_guid": "7dfb8081-9c10-c865-07e4-e300f2c5a270"
      },
      "cell_type": "markdown",
      "source": "### Parameter tuning"
    },
    {
      "metadata": {
        "_uuid": "62540971a3bf18aed335d1636c5373f34c616aca",
        "_cell_guid": "30afe799-0d6b-5cf0-a47e-9b729a26bad0",
        "trusted": true
      },
      "cell_type": "code",
      "source": "from sklearn.model_selection import GridSearchCV\n\ntuned_params = [{\"C\": [0.001, 0.01, 0.1, 1, 10, 100, 1000],  \"penalty\": [\"l1\", \"l2\"]}]\ngrid = GridSearchCV(LogisticRegression(C = 1), tuned_params)\ngrid.fit(attr_train, l_train)\nprint(grid.best_params_) # Estimator: grid.best_estimator_",
      "execution_count": 120,
      "outputs": [
        {
          "output_type": "stream",
          "text": "{'C': 0.1, 'penalty': 'l2'}\n",
          "name": "stdout"
        }
      ]
    },
    {
      "metadata": {
        "_uuid": "7a506497e21f96576bbe6c5b1aa648cb000761fc",
        "_cell_guid": "fd2fed21-2d33-164f-4de0-55e0e703aa69",
        "trusted": true
      },
      "cell_type": "code",
      "source": "# Loogistic regressioin cross validation with tuned parameters\n\nmodel = LogisticRegression(C = 10, penalty = \"l1\")\n\nkfold = StratifiedKFold(n_splits = 5)\n\nscores = cross_val_score(model, attributes, labels, cv = kfold)\nprint(scores)",
      "execution_count": 121,
      "outputs": [
        {
          "output_type": "stream",
          "text": "[ 0.73809524  0.8         0.78225806  0.7983871   0.76612903]\n",
          "name": "stdout"
        }
      ]
    },
    {
      "metadata": {
        "_uuid": "87b4940377d6d84bff084747fb2b5f9c3ca536a6",
        "_cell_guid": "2d496178-37f8-2cac-b64a-f679a87f49c8"
      },
      "cell_type": "markdown",
      "source": "There is no change after hyperparameter tuning"
    },
    {
      "metadata": {
        "_uuid": "22d300e2d4bcc3b3474cd1e0c88d9fc9f7712c04",
        "_cell_guid": "69941a34-4b02-633e-cb95-f8d69b3cbf76"
      },
      "cell_type": "markdown",
      "source": "### Model 3. SVC"
    },
    {
      "metadata": {
        "_uuid": "2af0192e4da77545093b17cc65afa4097a9f9bd5",
        "_cell_guid": "c3c711f7-7e67-0902-2904-7f10290fb34e",
        "trusted": true
      },
      "cell_type": "code",
      "source": "from sklearn.svm import SVC\n\nmodel = SVC()\n\ntrained = model.fit(attr_train, l_train)\nsvm_score = trained.score(attr_test,l_test)\nprint(\"SVC score: {}\".format(svm_score))",
      "execution_count": 122,
      "outputs": [
        {
          "output_type": "stream",
          "text": "SVC score: 0.7611940298507462\n",
          "name": "stdout"
        }
      ]
    },
    {
      "metadata": {
        "_uuid": "5ea045cd9168b88dfc420cff650835b076ba51d6",
        "_cell_guid": "e19f0fdc-58c4-ac66-a30c-60c0082bf9d8",
        "trusted": true
      },
      "cell_type": "code",
      "source": "# SVC cross validation\n\nattributes = attr_train\nlabels = l_train\n\nkfold = StratifiedKFold(n_splits = 5)\n\nsvm_scores = cross_val_score(model, attributes, labels, cv = kfold)\nprint(svm_scores)",
      "execution_count": 123,
      "outputs": [
        {
          "output_type": "stream",
          "text": "[ 0.71428571  0.744       0.78225806  0.77419355  0.7016129 ]\n",
          "name": "stdout"
        }
      ]
    },
    {
      "metadata": {
        "_uuid": "90a5be8e1a43fd80b1bb1cb595e1962db5709cef",
        "_cell_guid": "b2e9af07-d027-a9b8-61a0-7f21abfe3412"
      },
      "cell_type": "markdown",
      "source": "###Model 4. Random Forest"
    },
    {
      "metadata": {
        "_uuid": "da830fc7aa2fb2767a31fc51fc3ce4309ade6323",
        "_cell_guid": "4d211301-1497-bb44-a911-bb3d4590bdf9",
        "trusted": true
      },
      "cell_type": "code",
      "source": "\nfrom sklearn.ensemble import RandomForestClassifier\nmodel = RandomForestClassifier()\n\ntrained = model.fit(attr_train, l_train)\nrand_forest_score = trained.score(attr_test,l_test)\nprint(\"RandomForestClassifier score: {}\".format(rand_forest_score))",
      "execution_count": 124,
      "outputs": [
        {
          "output_type": "stream",
          "text": "RandomForestClassifier score: 0.7985074626865671\n",
          "name": "stdout"
        }
      ]
    },
    {
      "metadata": {
        "_uuid": "3eba88f65bcd14c4bcda40afd8b3c56d895f9f92",
        "_cell_guid": "4b5a2f74-119d-2dc8-9506-5d3fb47bbe2c",
        "trusted": true
      },
      "cell_type": "code",
      "source": "# RandomForestClassifier cross validation\n\nkfold = StratifiedKFold(n_splits = 5)\n\nrand_forest_scores = cross_val_score(model, attributes, labels, cv = kfold)\nprint(rand_forest_scores)",
      "execution_count": 125,
      "outputs": [
        {
          "output_type": "stream",
          "text": "[ 0.78571429  0.768       0.78225806  0.78225806  0.78225806]\n",
          "name": "stdout"
        }
      ]
    },
    {
      "metadata": {
        "_uuid": "dc4663fa89624dbf4fb67bd755beb7d845e0ecb5",
        "_cell_guid": "78aa3883-7c3f-8ee5-f804-87d03cdcff07"
      },
      "cell_type": "markdown",
      "source": "###Model 5. K Neighbors"
    },
    {
      "metadata": {
        "_uuid": "3d4a008cac7e1c6d24b8870b9751665f1b90a47c",
        "_cell_guid": "3bf7fe58-fea6-45aa-e132-d026c34dc0d4",
        "trusted": true
      },
      "cell_type": "code",
      "source": "from sklearn.neighbors import KNeighborsClassifier\n\nmodel = KNeighborsClassifier()\n\ntrained = model.fit(attr_train, l_train)\nk_neigh_score = trained.score(attr_test,l_test)\nprint(\"KNeighborsClassifier score: {}\".format(k_neigh_score))\n\n# KNeighborsClassifier cross validation\n\nkfold = StratifiedKFold(n_splits = 5)\n\nk_neigh_scores = cross_val_score(model, attributes, labels, cv = kfold)\nprint(k_neigh_scores)",
      "execution_count": 126,
      "outputs": [
        {
          "output_type": "stream",
          "text": "KNeighborsClassifier score: 0.7798507462686567\n[ 0.71428571  0.76        0.75        0.74193548  0.71774194]\n",
          "name": "stdout"
        }
      ]
    },
    {
      "metadata": {
        "_uuid": "efb4dba799820b851a8c36f36bec10da8f7b5236",
        "_cell_guid": "ef5652d8-5593-7f71-2ad1-86654841f35d"
      },
      "cell_type": "markdown",
      "source": "### Model 6. Decision Tree"
    },
    {
      "metadata": {
        "_uuid": "e2640c088df2a7b94dc27167d0ebe280f5561b8a",
        "_cell_guid": "f8e81deb-0746-e0c0-1710-4696d48840b3",
        "trusted": true
      },
      "cell_type": "code",
      "source": "from sklearn.tree import DecisionTreeClassifier\n\nmodel = DecisionTreeClassifier()\n\ntrained = model.fit(attr_train, l_train)\ndecision_tree_score = trained.score(attr_test,l_test)\nprint(\"DecisionTreeClassifier score: {}\".format(decision_tree_score))\n\n# KNeighborsClassifier cross validation\n\nkfold = StratifiedKFold(n_splits = 5)\n\ndecision_tree_scores = cross_val_score(model, attributes, labels, cv = kfold)\nprint(decision_tree_scores)",
      "execution_count": 127,
      "outputs": [
        {
          "output_type": "stream",
          "text": "DecisionTreeClassifier score: 0.7985074626865671\n[ 0.80952381  0.808       0.78225806  0.77419355  0.76612903]\n",
          "name": "stdout"
        }
      ]
    },
    {
      "metadata": {
        "_uuid": "b0b36ce9bf5609a09f41280f3b4c06f8e376b3fd",
        "_cell_guid": "972fb3bc-6cba-999e-e735-368075035757"
      },
      "cell_type": "markdown",
      "source": "### All scores"
    },
    {
      "metadata": {
        "_uuid": "e36c4068e0a968ba3438cb85310e40124b70869a",
        "_cell_guid": "88e6569c-4313-cce4-8c2e-6fd28f515dd2",
        "trusted": true
      },
      "cell_type": "code",
      "source": "print(\"Single Score\\n\\nLinear regressoin:\\t {}\\nLogistic regression:\\t {}\\nSVM:\\t\\t\\t {}\\nRandom forest:\\t\\t {}\\nK neighbors:\\t\\t {}\\nDecision tree:\\t\\t {}\\n\"\n      .format(lin_reg_score, logis_reg_score, svm_score, rand_forest_score, k_neigh_score, decision_tree_score))\n\nprint(\"Cross Validation\\n\\nLinear regressoin:\\t {}\\nLogistic regression:\\t {}\\nSVM:\\t\\t\\t {}\\nRandom forest:\\t\\t {}\\nK neighbors:\\t\\t {}\\nDecision tree:\\t\\t {}\\n\"\n      .format(lin_reg_scores, logis_reg_scores, svm_scores, rand_forest_scores, k_neigh_scores, decision_tree_scores))",
      "execution_count": 128,
      "outputs": [
        {
          "output_type": "stream",
          "text": "Single Score\n\nLinear regressoin:\t 0.4398418480058707\nLogistic regression:\t 0.8097014925373134\nSVM:\t\t\t 0.7611940298507462\nRandom forest:\t\t 0.7985074626865671\nK neighbors:\t\t 0.7798507462686567\nDecision tree:\t\t 0.7985074626865671\n\nCross Validation\n\nLinear regressoin:\t [ 0.31460387  0.42925202  0.33993455  0.35298323  0.16814677]\nLogistic regression:\t [ 0.75396825  0.8         0.78225806  0.81451613  0.77419355]\nSVM:\t\t\t [ 0.71428571  0.744       0.78225806  0.77419355  0.7016129 ]\nRandom forest:\t\t [ 0.78571429  0.768       0.78225806  0.78225806  0.78225806]\nK neighbors:\t\t [ 0.71428571  0.76        0.75        0.74193548  0.71774194]\nDecision tree:\t\t [ 0.80952381  0.808       0.78225806  0.77419355  0.76612903]\n\n",
          "name": "stdout"
        }
      ]
    },
    {
      "metadata": {
        "_uuid": "6b34212a9678cce52f6bd33a314ba2f53925324d",
        "_cell_guid": "0a6e7421-9dcc-b162-3410-8ccf32a50f79",
        "trusted": true,
        "collapsed": true
      },
      "cell_type": "code",
      "source": "# Export data\n\n## This is for the submission\n\n#model = LogisticRegression() # may select another model\n#trained = model.fit(tr_df.drop(\"Survived\", axis=1), tr_df.Survived)\n#predicted = model.predict(df_transform(test_df))\n#print(trained)\n#print(predicted.round(0).astype(int))\n\n#output = test_df[[\"PassengerId\"]]\n#output[\"Survived\"] = predicted.round(0).astype(int)\n#output = output.set_index(\"PassengerId\")\n#output",
      "execution_count": 129,
      "outputs": []
    }
  ],
  "metadata": {
    "language_info": {
      "name": "python",
      "version": "3.6.3",
      "mimetype": "text/x-python",
      "codemirror_mode": {
        "name": "ipython",
        "version": 3
      },
      "pygments_lexer": "ipython3",
      "nbconvert_exporter": "python",
      "file_extension": ".py"
    },
    "kernelspec": {
      "display_name": "Python 3",
      "language": "python",
      "name": "python3"
    },
    "_is_fork": false,
    "_change_revision": 0
  },
  "nbformat": 4,
  "nbformat_minor": 1
}