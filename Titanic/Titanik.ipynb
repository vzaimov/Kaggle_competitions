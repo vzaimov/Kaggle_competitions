{
  "cells": [
    {
      "cell_type": "code",
      "execution_count": null,
      "metadata": {
        "_cell_guid": "ec467d6b-5d43-a39d-1c4c-3efaa059b495",
        "_uuid": "15f7d4e1361c78f143b61d0bc1d95fd679da891b"
      },
      "outputs": [],
      "source": [
        "%matplotlib inline\n",
        "# This Python 3 environment comes with many helpful analytics libraries installed\n",
        "# It is defined by the kaggle/python docker image: https://github.com/kaggle/docker-python\n",
        "# For example, here's several helpful packages to load in \n",
        "\n",
        "import numpy as np # linear algebra\n",
        "import pandas as pd # data processing, CSV file I/O (e.g. pd.read_csv)\n",
        "\n",
        "# Input data files are available in the \"../input/\" directory.\n",
        "# For example, running this (by clicking run or pressing Shift+Enter) will list the files in the input directory\n",
        "\n",
        "from subprocess import check_output\n",
        "print(check_output([\"ls\", \"../input\"]).decode(\"utf8\"))\n",
        "\n",
        "# Any results you write to the current directory are saved as output."
      ]
    },
    {
      "cell_type": "code",
      "execution_count": null,
      "metadata": {
        "_cell_guid": "d64c82c2-c10e-c458-6ba3-c82a3a18fa8e",
        "_uuid": "b8389c1f0a233668d6cbfb7629cc8a87ce23b2d2"
      },
      "outputs": [],
      "source": [
        "\n",
        "\n",
        "import matplotlib.pyplot as plt\n",
        "import seaborn as sns"
      ]
    },
    {
      "cell_type": "code",
      "execution_count": null,
      "metadata": {
        "_cell_guid": "5a51c9c0-5ca2-2b8f-8ad6-48d999afb148",
        "_uuid": "818d0a5efbf043a530ed800758dc691b74bf3cc8"
      },
      "outputs": [],
      "source": [
        "tr_df = pd.read_csv(\"../input/train.csv\")\n",
        "tr_df.head(3)"
      ]
    },
    {
      "cell_type": "code",
      "execution_count": null,
      "metadata": {
        "_cell_guid": "a1e21cf8-396b-90ef-e039-6e703ec08dbf",
        "_uuid": "ac755ed40b1a5a4a05dccbbde7537501c6debe75"
      },
      "outputs": [],
      "source": [
        "tr_df.info()"
      ]
    },
    {
      "cell_type": "code",
      "execution_count": null,
      "metadata": {
        "_cell_guid": "62d56a93-7823-0e9f-b9ab-933849f145a9",
        "_uuid": "82b03577f3219903704e5c4114c3452ec737c55c"
      },
      "outputs": [],
      "source": [
        "tr_df.describe()"
      ]
    },
    {
      "cell_type": "code",
      "execution_count": null,
      "metadata": {
        "_cell_guid": "727acfa3-d0e7-39bf-f2fd-be0ef48d9c1a",
        "_uuid": "7354a56bf6b0363cd1c98bd2c3647c9bcea5e593"
      },
      "outputs": [],
      "source": [
        "test_df = pd.read_csv(\"../input/test.csv\")\n",
        "test_df.head(3)"
      ]
    },
    {
      "cell_type": "code",
      "execution_count": null,
      "metadata": {
        "_cell_guid": "b4931137-3e7e-ae51-5688-da9e8be540f3",
        "_uuid": "ee4cc6b865ebbb71c94db99d8a07a2ec3754c8e8"
      },
      "outputs": [],
      "source": [
        "tr_df[[\"Age\", \"Pclass\"]].hist(align='left')\n",
        "#plt.tight_layout()\n",
        "plt.show()"
      ]
    },
    {
      "cell_type": "code",
      "execution_count": null,
      "metadata": {
        "_cell_guid": "39b8a14e-1f88-339b-25c4-f50da9e068c8",
        "_uuid": "ec1a5294f623a710f2f9b6f49106a5254146040a"
      },
      "outputs": [],
      "source": [
        "tr_df.groupby(\"Sex\")[\"Sex\"].count().plot(kind='bar')\n",
        "plt.show()"
      ]
    },
    {
      "cell_type": "code",
      "execution_count": null,
      "metadata": {
        "_cell_guid": "d008796b-c9f4-ab88-0090-5006a5cea6d0",
        "_uuid": "5a0cc6c8d30a60798cdc83a65ee50e42c150f625"
      },
      "outputs": [],
      "source": [
        "tr_df.groupby(\"Survived\")[\"Survived\"].count().plot(kind='bar')\n",
        "plt.show()"
      ]
    },
    {
      "cell_type": "code",
      "execution_count": null,
      "metadata": {
        "_cell_guid": "0936362f-862c-6621-423b-1c38fd15552c",
        "_uuid": "3512c9af748d725281d9fbeb38bcee2e57857cad"
      },
      "outputs": [],
      "source": [
        "tr_df.groupby(\"Embarked\")[\"Embarked\"].count().plot(kind='bar')\n",
        "plt.show()"
      ]
    },
    {
      "cell_type": "code",
      "execution_count": null,
      "metadata": {
        "_cell_guid": "c517647a-eb57-ea13-1313-fb9d0705ad93",
        "_uuid": "8c228fefeb7f76a9752a2f845a21d4558317aaba"
      },
      "outputs": [],
      "source": [
        "sns.heatmap(tr_df.corr())"
      ]
    },
    {
      "cell_type": "markdown",
      "metadata": {
        "_cell_guid": "55fdd4f1-410d-bc58-5743-f3e6081f026f",
        "_uuid": "c491e468ba96378edb2ed14e1c6a9e15d2189460"
      },
      "source": [
        "### Some data transformation is needed"
      ]
    },
    {
      "cell_type": "code",
      "execution_count": null,
      "metadata": {
        "_cell_guid": "e03990db-2a17-dbad-cb88-cb87f642ebbd",
        "_uuid": "13e1cd49c403dddeda848e2e21e965b2d051b431"
      },
      "outputs": [],
      "source": [
        "def df_transform(df):\n",
        "    df = df.drop([\"Name\",\"Ticket\",\"PassengerId\",\"Cabin\",\"Age\"], axis=1)\n",
        "    df = pd.get_dummies(df, columns=['Sex','Embarked']).fillna(0)\n",
        "    return df"
      ]
    },
    {
      "cell_type": "code",
      "execution_count": null,
      "metadata": {
        "_cell_guid": "8dacef10-8941-3085-e604-3e4e743768c6",
        "_uuid": "4f3c6a2043241f39d9176416a2dfb0212880c357"
      },
      "outputs": [],
      "source": [
        "tr_df = df_transform(tr_df)\n",
        "tr_df.head(3)"
      ]
    },
    {
      "cell_type": "code",
      "execution_count": null,
      "metadata": {
        "_cell_guid": "c2962e22-809c-c966-7a78-de779ac580b4",
        "_uuid": "26c6436aeef4f128a5f123e778f8778633f828f8"
      },
      "outputs": [],
      "source": [
        "sns.heatmap(tr_df.corr())"
      ]
    },
    {
      "cell_type": "markdown",
      "metadata": {
        "_cell_guid": "6b416b46-5bad-6789-b24c-6065d006fc48",
        "_uuid": "739fff41b688ffa7701e326e7cb01cca5b0532e7"
      },
      "source": [
        "## Split data for training and testing"
      ]
    },
    {
      "cell_type": "code",
      "execution_count": null,
      "metadata": {
        "_cell_guid": "e8403003-7f30-87d6-a116-6b2efd689828",
        "_uuid": "c103c770350b0ac1b90540384321398931eea82b"
      },
      "outputs": [],
      "source": [
        "from sklearn.model_selection import train_test_split\n",
        "\n",
        "#split data to training : test (70% : 30%)\n",
        "attr_train, attr_test, l_train, l_test = train_test_split(tr_df.drop(\"Survived\", axis=1), tr_df.Survived, train_size = 0.7)"
      ]
    },
    {
      "cell_type": "markdown",
      "metadata": {
        "_cell_guid": "dddf71de-ad87-3fec-ebc4-93ee92400f30",
        "_uuid": "b24c558441feceaab112c7c868142df85fdd7969"
      },
      "source": [
        "## Model 1. Linear regression"
      ]
    },
    {
      "cell_type": "code",
      "execution_count": null,
      "metadata": {
        "_cell_guid": "c0f5e074-ce0a-382a-feba-745e14884d78",
        "_uuid": "a39830528d154f52ab5baf1051b92f20ef91b3e1"
      },
      "outputs": [],
      "source": [
        "from sklearn.linear_model import LinearRegression\n",
        "\n",
        "model = LinearRegression()\n",
        "\n",
        "trained = model.fit(attr_train, l_train)\n",
        "lin_reg_score = trained.score(attr_test,l_test)\n",
        "print(\"LinearRegression score: {}\".format(lin_reg_score ))\n"
      ]
    },
    {
      "cell_type": "code",
      "execution_count": null,
      "metadata": {
        "_cell_guid": "03df6d7e-df49-88d4-0adf-58bcc41fb28c",
        "_uuid": "abd00a792e45578267b2be93150ed3b16186bec1"
      },
      "outputs": [],
      "source": [
        "#output.to_csv(\"../output/my_gender_submission.csv\")"
      ]
    },
    {
      "cell_type": "markdown",
      "metadata": {
        "_cell_guid": "9dfb227b-1481-2118-db86-63e133c746be",
        "_uuid": "f4871b4b5043bf19083c24b269c8cf099ce53e3e"
      },
      "source": [
        "### Cross validation"
      ]
    },
    {
      "cell_type": "code",
      "execution_count": null,
      "metadata": {
        "_cell_guid": "99ff897b-baac-4693-3e41-44db4c96ecd0",
        "_uuid": "282160988ef9a4d23d49c4f99bc7417b6e5779b5"
      },
      "outputs": [],
      "source": [
        "# Time for cross validation with initially selected 70% data for training\n",
        "\n",
        "from sklearn.model_selection import cross_val_score, StratifiedKFold\n",
        "\n",
        "attributes = attr_train\n",
        "labels = l_train\n",
        "\n",
        "kfold = StratifiedKFold(n_splits = 5)\n",
        "\n",
        "lin_reg_scores = cross_val_score(model, attributes, labels, cv = kfold)\n",
        "print(lin_reg_scores)"
      ]
    },
    {
      "cell_type": "markdown",
      "metadata": {
        "_cell_guid": "82162a55-77b4-434f-7506-8c558f19be90",
        "_uuid": "e1e074904d28dd3cc5955d751ae6614a1aa48219"
      },
      "source": [
        "##Model 2. Logistic regression"
      ]
    },
    {
      "cell_type": "code",
      "execution_count": null,
      "metadata": {
        "_cell_guid": "48f0eb03-9b2c-1195-bd10-ac70abc1cbd5",
        "_uuid": "183339ee6feee8f8cfe5dfd055446db774b89841"
      },
      "outputs": [],
      "source": [
        "from sklearn.linear_model import LogisticRegression\n",
        "model = LogisticRegression()\n",
        "\n",
        "trained = model.fit(attr_train, l_train)\n",
        "logis_reg_score = trained.score(attr_test,l_test)\n",
        "print(\"LogisticRegression score: {}\".format(logis_reg_score))"
      ]
    },
    {
      "cell_type": "code",
      "execution_count": null,
      "metadata": {
        "_cell_guid": "e1aad3fe-aaa7-baf0-4fc3-e3ef0ad63a57",
        "_uuid": "e0f487b86e1f54389d65913d972628b2e8b2b36f"
      },
      "outputs": [],
      "source": [
        "# Loogistic regressioin cross validation\n",
        "\n",
        "attributes = attr_train\n",
        "labels = l_train\n",
        "\n",
        "kfold = StratifiedKFold(n_splits = 5)\n",
        "\n",
        "logis_reg_scores = cross_val_score(model, attributes, labels, cv = kfold)\n",
        "print(logis_reg_scores)"
      ]
    },
    {
      "cell_type": "markdown",
      "metadata": {
        "_cell_guid": "7dfb8081-9c10-c865-07e4-e300f2c5a270",
        "_uuid": "19cb43cbdcdc62c5114b57b052b6342c8d168171"
      },
      "source": [
        "### Parameter tuning"
      ]
    },
    {
      "cell_type": "code",
      "execution_count": null,
      "metadata": {
        "_cell_guid": "30afe799-0d6b-5cf0-a47e-9b729a26bad0",
        "_uuid": "62540971a3bf18aed335d1636c5373f34c616aca"
      },
      "outputs": [],
      "source": [
        "from sklearn.model_selection import GridSearchCV\n",
        "\n",
        "tuned_params = [{\"C\": [0.001, 0.01, 0.1, 1, 10, 100, 1000],  \"penalty\": [\"l1\", \"l2\"]}]\n",
        "grid = GridSearchCV(LogisticRegression(C = 1), tuned_params)\n",
        "grid.fit(attr_train, l_train)\n",
        "print(grid.best_params_) # Estimator: grid.best_estimator_"
      ]
    },
    {
      "cell_type": "code",
      "execution_count": null,
      "metadata": {
        "_cell_guid": "fd2fed21-2d33-164f-4de0-55e0e703aa69",
        "_uuid": "7a506497e21f96576bbe6c5b1aa648cb000761fc"
      },
      "outputs": [],
      "source": [
        "# Loogistic regressioin cross validation with tuned parameters\n",
        "\n",
        "model = LogisticRegression(C = 10, penalty = \"l1\")\n",
        "\n",
        "kfold = StratifiedKFold(n_splits = 5)\n",
        "\n",
        "scores = cross_val_score(model, attributes, labels, cv = kfold)\n",
        "print(scores)"
      ]
    },
    {
      "cell_type": "markdown",
      "metadata": {
        "_cell_guid": "2d496178-37f8-2cac-b64a-f679a87f49c8",
        "_uuid": "87b4940377d6d84bff084747fb2b5f9c3ca536a6"
      },
      "source": [
        "There is no change after hyperparameter tuning"
      ]
    },
    {
      "cell_type": "markdown",
      "metadata": {
        "_cell_guid": "69941a34-4b02-633e-cb95-f8d69b3cbf76",
        "_uuid": "22d300e2d4bcc3b3474cd1e0c88d9fc9f7712c04"
      },
      "source": [
        "### Model 3. SVC"
      ]
    },
    {
      "cell_type": "code",
      "execution_count": null,
      "metadata": {
        "_cell_guid": "c3c711f7-7e67-0902-2904-7f10290fb34e",
        "_uuid": "2af0192e4da77545093b17cc65afa4097a9f9bd5"
      },
      "outputs": [],
      "source": [
        "from sklearn.svm import SVC\n",
        "\n",
        "model = SVC()\n",
        "\n",
        "trained = model.fit(attr_train, l_train)\n",
        "svm_score = trained.score(attr_test,l_test)\n",
        "print(\"SVC score: {}\".format(svm_score))"
      ]
    },
    {
      "cell_type": "code",
      "execution_count": null,
      "metadata": {
        "_cell_guid": "e19f0fdc-58c4-ac66-a30c-60c0082bf9d8",
        "_uuid": "5ea045cd9168b88dfc420cff650835b076ba51d6"
      },
      "outputs": [],
      "source": [
        "# SVC cross validation\n",
        "\n",
        "attributes = attr_train\n",
        "labels = l_train\n",
        "\n",
        "kfold = StratifiedKFold(n_splits = 5)\n",
        "\n",
        "svm_scores = cross_val_score(model, attributes, labels, cv = kfold)\n",
        "print(svm_scores)"
      ]
    },
    {
      "cell_type": "markdown",
      "metadata": {
        "_cell_guid": "b2e9af07-d027-a9b8-61a0-7f21abfe3412",
        "_uuid": "90a5be8e1a43fd80b1bb1cb595e1962db5709cef"
      },
      "source": [
        "###Model 4. Random Forest"
      ]
    },
    {
      "cell_type": "code",
      "execution_count": null,
      "metadata": {
        "_cell_guid": "4d211301-1497-bb44-a911-bb3d4590bdf9",
        "_uuid": "da830fc7aa2fb2767a31fc51fc3ce4309ade6323"
      },
      "outputs": [],
      "source": [
        "\n",
        "from sklearn.ensemble import RandomForestClassifier\n",
        "model = RandomForestClassifier()\n",
        "\n",
        "trained = model.fit(attr_train, l_train)\n",
        "rand_forest_score = trained.score(attr_test,l_test)\n",
        "print(\"RandomForestClassifier score: {}\".format(rand_forest_score))"
      ]
    },
    {
      "cell_type": "code",
      "execution_count": null,
      "metadata": {
        "_cell_guid": "4b5a2f74-119d-2dc8-9506-5d3fb47bbe2c",
        "_uuid": "3eba88f65bcd14c4bcda40afd8b3c56d895f9f92"
      },
      "outputs": [],
      "source": [
        "# RandomForestClassifier cross validation\n",
        "\n",
        "kfold = StratifiedKFold(n_splits = 5)\n",
        "\n",
        "rand_forest_scores = cross_val_score(model, attributes, labels, cv = kfold)\n",
        "print(rand_forest_scores)"
      ]
    },
    {
      "cell_type": "markdown",
      "metadata": {
        "_cell_guid": "78aa3883-7c3f-8ee5-f804-87d03cdcff07",
        "_uuid": "dc4663fa89624dbf4fb67bd755beb7d845e0ecb5"
      },
      "source": [
        "###Model 5. K Neighbors"
      ]
    },
    {
      "cell_type": "code",
      "execution_count": null,
      "metadata": {
        "_cell_guid": "3bf7fe58-fea6-45aa-e132-d026c34dc0d4",
        "_uuid": "3d4a008cac7e1c6d24b8870b9751665f1b90a47c"
      },
      "outputs": [],
      "source": [
        "from sklearn.neighbors import KNeighborsClassifier\n",
        "\n",
        "model = KNeighborsClassifier()\n",
        "\n",
        "trained = model.fit(attr_train, l_train)\n",
        "k_neigh_score = trained.score(attr_test,l_test)\n",
        "print(\"KNeighborsClassifier score: {}\".format(k_neigh_score))\n",
        "\n",
        "# KNeighborsClassifier cross validation\n",
        "\n",
        "kfold = StratifiedKFold(n_splits = 5)\n",
        "\n",
        "k_neigh_scores = cross_val_score(model, attributes, labels, cv = kfold)\n",
        "print(k_neigh_scores)"
      ]
    },
    {
      "cell_type": "markdown",
      "metadata": {
        "_cell_guid": "ef5652d8-5593-7f71-2ad1-86654841f35d",
        "_uuid": "efb4dba799820b851a8c36f36bec10da8f7b5236"
      },
      "source": [
        "### Model 6. Decision Tree"
      ]
    },
    {
      "cell_type": "code",
      "execution_count": null,
      "metadata": {
        "_cell_guid": "f8e81deb-0746-e0c0-1710-4696d48840b3",
        "_uuid": "e2640c088df2a7b94dc27167d0ebe280f5561b8a"
      },
      "outputs": [],
      "source": [
        "from sklearn.tree import DecisionTreeClassifier\n",
        "\n",
        "model = DecisionTreeClassifier()\n",
        "\n",
        "trained = model.fit(attr_train, l_train)\n",
        "decision_tree_score = trained.score(attr_test,l_test)\n",
        "print(\"DecisionTreeClassifier score: {}\".format(decision_tree_score))\n",
        "\n",
        "# KNeighborsClassifier cross validation\n",
        "\n",
        "kfold = StratifiedKFold(n_splits = 5)\n",
        "\n",
        "decision_tree_scores = cross_val_score(model, attributes, labels, cv = kfold)\n",
        "print(decision_tree_scores)"
      ]
    },
    {
      "cell_type": "markdown",
      "metadata": {
        "_cell_guid": "972fb3bc-6cba-999e-e735-368075035757",
        "_uuid": "b0b36ce9bf5609a09f41280f3b4c06f8e376b3fd"
      },
      "source": [
        "### All scores"
      ]
    },
    {
      "cell_type": "code",
      "execution_count": null,
      "metadata": {
        "_cell_guid": "88e6569c-4313-cce4-8c2e-6fd28f515dd2",
        "_uuid": "e36c4068e0a968ba3438cb85310e40124b70869a"
      },
      "outputs": [],
      "source": [
        "print(\"Single Score\\n\\nLinear regressoin:\\t {}\\nLogistic regression:\\t {}\\nSVM:\\t\\t\\t {}\\nRandom forest:\\t\\t {}\\nK neighbors:\\t\\t {}\\nDecision tree:\\t\\t {}\\n\"\n",
        "      .format(lin_reg_score, logis_reg_score, svm_score, rand_forest_score, k_neigh_score, decision_tree_score))\n",
        "\n",
        "print(\"Cross Validation\\n\\nLinear regressoin:\\t {}\\nLogistic regression:\\t {}\\nSVM:\\t\\t\\t {}\\nRandom forest:\\t\\t {}\\nK neighbors:\\t\\t {}\\nDecision tree:\\t\\t {}\\n\"\n",
        "      .format(lin_reg_scores, logis_reg_scores, svm_scores, rand_forest_scores, k_neigh_scores, decision_tree_scores))"
      ]
    },
    {
      "cell_type": "code",
      "execution_count": null,
      "metadata": {
        "_cell_guid": "0a6e7421-9dcc-b162-3410-8ccf32a50f79",
        "_uuid": "6b34212a9678cce52f6bd33a314ba2f53925324d"
      },
      "outputs": [],
      "source": [
        "# Export data\n",
        "\n",
        "## This is for the submission\n",
        "\n",
        "#model = LogisticRegression() # may select another model\n",
        "#trained = model.fit(tr_df.drop(\"Survived\", axis=1), tr_df.Survived)\n",
        "#predicted = model.predict(df_transform(test_df))\n",
        "#print(trained)\n",
        "#print(predicted.round(0).astype(int))\n",
        "\n",
        "#output = test_df[[\"PassengerId\"]]\n",
        "#output[\"Survived\"] = predicted.round(0).astype(int)\n",
        "#output = output.set_index(\"PassengerId\")\n",
        "#output"
      ]
    }
  ],
  "metadata": {
    "_change_revision": 0,
    "_is_fork": false,
    "kernelspec": {
      "display_name": "Python 3",
      "language": "python",
      "name": "python3"
    },
    "language_info": {
      "codemirror_mode": {
        "name": "ipython",
        "version": 3
      },
      "file_extension": ".py",
      "mimetype": "text/x-python",
      "name": "python",
      "nbconvert_exporter": "python",
      "pygments_lexer": "ipython3",
      "version": "3.6.0"
    }
  },
  "nbformat": 4,
  "nbformat_minor": 0
}